{
 "cells": [
  {
   "cell_type": "markdown",
   "metadata": {},
   "source": [
    "# Mood Journal "
   ]
  },
  {
   "cell_type": "markdown",
   "metadata": {},
   "source": [
    "### Description \n",
    "As part of my New Year's Resolution of 2020 and in an effort to better remember my life, I began writing a mood journal. Everyday, I would write down a few paragraphs about my day and rank my mood with a number between -3 to +3. It was when I took Introduction to Data Mining that spring semester that I realized I could use a supervised machine learning model on my journal and observe how the description of my day is related to my mood.\n",
    "\n",
    "### Method \n",
    "Before diving into the details and the code, here is a brief overview of my approach. I used a private Instagram account as my mood journal, attaching a photo and caption for each day. I first needed to extract the text from all the data. __I used Instagram's API to extract the data__Once I achieved this, I used the 'bag of words' approach to summarize the textual data. And finally, I used various supervised machine learning classifiers to model and predict my mood. __I also compared this result to a cyclical regression model__ \n",
    "\n",
    "#### Data Extraction\n",
    "I donwloaded a json file with all the relevant data of my Instagram account and I extracted the json file into a Python dictionary. As I had used a range of -3 to +3 in my mood, I decided to make three labels: positive, zero, and negative. It may have been better to ignore zero and have only two labels. __But the number of '0' was '' which is \"\"% of the dataset. put graph__ I thought of a way to include the '0' by perfoming a sort of imputation - I'd set every '0' to its previous day. "
   ]
  },
  {
   "cell_type": "code",
   "execution_count": 5,
   "metadata": {},
   "outputs": [
    {
     "ename": "FileNotFoundError",
     "evalue": "[Errno 2] No such file or directory: '/Users/Minho/Documents/Projects/Python/Mood Journal../media.json'",
     "output_type": "error",
     "traceback": [
      "\u001b[0;31m---------------------------------------------------------------------------\u001b[0m",
      "\u001b[0;31mFileNotFoundError\u001b[0m                         Traceback (most recent call last)",
      "\u001b[0;32m<ipython-input-5-f17f339ea424>\u001b[0m in \u001b[0;36m<module>\u001b[0;34m()\u001b[0m\n\u001b[1;32m     18\u001b[0m \u001b[0;34m\u001b[0m\u001b[0m\n\u001b[1;32m     19\u001b[0m \u001b[0;34m\u001b[0m\u001b[0m\n\u001b[0;32m---> 20\u001b[0;31m \u001b[0;32mwith\u001b[0m \u001b[0mopen\u001b[0m\u001b[0;34m(\u001b[0m\u001b[0mos\u001b[0m\u001b[0;34m.\u001b[0m\u001b[0mpath\u001b[0m\u001b[0;34m.\u001b[0m\u001b[0mdirname\u001b[0m\u001b[0;34m(\u001b[0m\u001b[0mnotebook_path\u001b[0m\u001b[0;34m)\u001b[0m \u001b[0;34m+\u001b[0m \u001b[0;34m'../media.json'\u001b[0m\u001b[0;34m)\u001b[0m \u001b[0;32mas\u001b[0m \u001b[0mf\u001b[0m\u001b[0;34m:\u001b[0m\u001b[0;34m\u001b[0m\u001b[0m\n\u001b[0m\u001b[1;32m     21\u001b[0m     \u001b[0mdata\u001b[0m \u001b[0;34m=\u001b[0m \u001b[0mjson\u001b[0m\u001b[0;34m.\u001b[0m\u001b[0mload\u001b[0m\u001b[0;34m(\u001b[0m\u001b[0mf\u001b[0m\u001b[0;34m)\u001b[0m\u001b[0;34m\u001b[0m\u001b[0m\n\u001b[1;32m     22\u001b[0m \u001b[0;34m\u001b[0m\u001b[0m\n",
      "\u001b[0;31mFileNotFoundError\u001b[0m: [Errno 2] No such file or directory: '/Users/Minho/Documents/Projects/Python/Mood Journal../media.json'"
     ]
    }
   ],
   "source": [
    "import os\n",
    "import json\n",
    "import matplotlib.pyplot as plt\n",
    "import pandas as pd\n",
    "from sklearn.feature_extraction.text import CountVectorizer\n",
    "from sklearn.calibration import CalibratedClassifierCV\n",
    "from sklearn.svm import LinearSVC\n",
    "import re\n",
    "from nltk.stem.porter import PorterStemmer\n",
    "\n",
    "#extract json file into python \n",
    "notebook_path = os.path.abspath(\"MoodJournal.ipynb\")\n",
    "\n",
    "\n",
    "# json_file = os.path.join(os.path.dirname(notebook_path), \"media.json\")\n",
    "# with open(json_file) as f:\n",
    "#     data = json.load(f)\n",
    "\n",
    "\n",
    "with open(os.path.dirname(__file__) + '../media.json') as f:\n",
    "    data = json.load(f)\n",
    "\n",
    "arr = data['photos']\n",
    "arr.reverse()\n",
    "\n",
    "mood = []\n",
    "time = []\n",
    "text = []\n",
    "#extracting features and labels\n",
    "for con in arr:\n",
    "    caption = con['caption']\n",
    "    if len(caption) != 0:\n",
    "        if caption.find('[') != -1 and caption.find(']') != -1:\n",
    "            rank = caption[caption.index('[') + 1 : caption.index(']')]\n",
    "            description = caption[caption.index(']') + 1 : ]\n",
    "            # parsing mood label into integer\n",
    "            if '+' in rank:\n",
    "                mood.append(int(rank))\n",
    "            elif '-' in rank: \n",
    "                mood.append(int(rank))\n",
    "            elif rank.isnumeric():\n",
    "                mood.append(int(rank))\n",
    "            else:\n",
    "                continue\n",
    "            \n",
    "            time.append(con['taken_at'])\n",
    "            text.append(description)\n",
    "\n",
    "            # label as positive, zero, negative\n",
    "            rank = int(rank)\n",
    "            if rank < 0:\n",
    "                rank = -1\n",
    "            elif rank > 0:\n",
    "                rank = 1\n",
    "            else:\n",
    "                rank = 0\n",
    "            data['Label'].append(int(rank))\n",
    "data['Text'] = text\n",
    "df = pd.DataFrame(data)\n",
    "texts = df['Text'].astype(str)\n",
    "y = df['Label']\n",
    "print(text.shape)"
   ]
  },
  {
   "cell_type": "code",
   "execution_count": null,
   "metadata": {
    "collapsed": true
   },
   "outputs": [],
   "source": []
  }
 ],
 "metadata": {
  "kernelspec": {
   "display_name": "Python 3",
   "language": "python",
   "name": "python3"
  },
  "language_info": {
   "codemirror_mode": {
    "name": "ipython",
    "version": 3
   },
   "file_extension": ".py",
   "mimetype": "text/x-python",
   "name": "python",
   "nbconvert_exporter": "python",
   "pygments_lexer": "ipython3",
   "version": "3.6.3"
  }
 },
 "nbformat": 4,
 "nbformat_minor": 2
}
